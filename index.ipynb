{
 "cells": [
  {
   "cell_type": "markdown",
   "metadata": {},
   "source": [
    "# Rappel des séances 1 et 2"
   ]
  },
  {
   "cell_type": "code",
   "execution_count": 1,
   "metadata": {},
   "outputs": [
    {
     "name": "stdout",
     "output_type": "stream",
     "text": [
      "Bonjour tout le monde !!!\n"
     ]
    }
   ],
   "source": [
    "System.out.println(\"Bonjour tout le monde !!!\");"
   ]
  },
  {
   "cell_type": "code",
   "execution_count": 2,
   "metadata": {},
   "outputs": [
    {
     "name": "stdout",
     "output_type": "stream",
     "text": [
      "Bonjour Sylvain."
     ]
    },
    {
     "data": {
      "text/plain": [
       "java.io.PrintStream@613fe01f"
      ]
     },
     "execution_count": 2,
     "metadata": {},
     "output_type": "execute_result"
    }
   ],
   "source": [
    "String nom = \"Sylvain\";\n",
    "\n",
    "System.out.printf(\"Bonjour %s.\", nom);"
   ]
  },
  {
   "cell_type": "code",
   "execution_count": 11,
   "metadata": {},
   "outputs": [
    {
     "name": "stdout",
     "output_type": "stream",
     "text": [
      "Vous allez acheter 5 stylo(s) et 1 cahier(s).\n"
     ]
    },
    {
     "data": {
      "text/plain": [
       "java.io.PrintStream@401a8337"
      ]
     },
     "execution_count": 11,
     "metadata": {},
     "output_type": "execute_result"
    }
   ],
   "source": [
    "int quantite1 = 5, quantite2 = 1;\n",
    "\n",
    "System.out.printf(\"Vous allez acheter %d stylo(s) et %d cahier(s).\\n\", quantite1, quantite2);"
   ]
  },
  {
   "cell_type": "markdown",
   "metadata": {},
   "source": [
    "# Conditions"
   ]
  },
  {
   "cell_type": "code",
   "execution_count": null,
   "metadata": {},
   "outputs": [
    {
     "name": "stdout",
     "output_type": "stream",
     "text": [
      "Vous allez acheter 5 stylo(s) 2 cahier(s)"
     ]
    }
   ],
   "source": [
    "System.out.print(\"Vous allez acheter\");\n",
    "if(quantite1 > 0) \n",
    "{\n",
    "    System.out.printf(\" %d stylo(s)\", quantite1); \n",
    "}\n",
    "if(quantite2 > 0) \n",
    "{\n",
    "    System.out.printf(\" %d cahier(s)\", quantite2); \n",
    "}"
   ]
  },
  {
   "cell_type": "code",
   "execution_count": 18,
   "metadata": {},
   "outputs": [
    {
     "name": "stdout",
     "output_type": "stream",
     "text": [
      "Vous allez acheter 12 stylos"
     ]
    },
    {
     "name": "stdout",
     "output_type": "stream",
     "text": [
      " 6 cahiers => 1 gomme offerte"
     ]
    }
   ],
   "source": [
    "int quantite1 = 12, quantite2 = 6;\n",
    "\n",
    "System.out.print(\"Vous allez acheter\");\n",
    "if(quantite1 > 1) \n",
    "{\n",
    "    System.out.printf(\" %d stylos\", quantite1); \n",
    "}\n",
    "else\n",
    "{\n",
    "    System.out.printf(\" %d stylo\", quantite1);\n",
    "}\n",
    "\n",
    "if(quantite2 == 1) \n",
    "{\n",
    "    System.out.print(\" 1 cahier\"); \n",
    "}\n",
    "else if(quantite2 > 1)\n",
    "{\n",
    "    System.out.printf(\" %d cahiers\", quantite2);\n",
    "}\n",
    "else\n",
    "{\n",
    "    System.out.print(\"aucun cahier\");\n",
    "}\n",
    "\n",
    "if(quantite1 >= 10 && quantite2 >= 5)\n",
    "{\n",
    "    System.out.print(\" => 1 gomme offerte\");\n",
    "}\n",
    "\n",
    "if(!(quantite1<0))\n",
    "{\n",
    "    // System.out.println(\"La quantite1 n'est pas négative.\");\n",
    "}\n"
   ]
  },
  {
   "cell_type": "markdown",
   "metadata": {},
   "source": [
    "# Boucles"
   ]
  },
  {
   "cell_type": "markdown",
   "metadata": {},
   "source": [
    "## while"
   ]
  },
  {
   "cell_type": "code",
   "execution_count": null,
   "metadata": {},
   "outputs": [
    {
     "name": "stdout",
     "output_type": "stream",
     "text": [
      "9 se divise par 2\n",
      "4 se divise par 2\n",
      "2 se divise par 2\n",
      "1 se divise par 2\n"
     ]
    }
   ],
   "source": [
    "int nombre = 9;\n",
    "\n",
    "while(nombre > 0)\n",
    "{\n",
    "    System.out.printf(\"%d se divise par 2\\n\", nombre);\n",
    "    nombre = nombre/2; // Division entière\n",
    "}\n"
   ]
  },
  {
   "cell_type": "markdown",
   "metadata": {},
   "source": [
    "## do...while()"
   ]
  },
  {
   "cell_type": "code",
   "execution_count": 21,
   "metadata": {},
   "outputs": [
    {
     "name": "stdout",
     "output_type": "stream",
     "text": [
      "Répondez  1:oui ou 2:non\n"
     ]
    },
    {
     "name": "stdout",
     "output_type": "stream",
     "text": [
      "Répondez  1:oui ou 2:non\n",
      "C'est non\n"
     ]
    }
   ],
   "source": [
    "import java.util.Scanner;\n",
    "\n",
    "Scanner clavier = new Scanner(System.in);\n",
    "int reponse;\n",
    "\n",
    "do\n",
    "{\n",
    "    System.out.println(\"Répondez  1:oui ou 2:non\");\n",
    "    reponse = clavier.nextInt();\n",
    "}\n",
    "while(reponse != 1 && reponse != 2);\n",
    "\n",
    "if(reponse==1)\n",
    "{\n",
    "    System.out.println(\"C'est oui.\");\n",
    "}\n",
    "else\n",
    "{\n",
    "    System.out.println(\"C'est non\");\n",
    "}"
   ]
  },
  {
   "cell_type": "markdown",
   "metadata": {},
   "source": [
    "## for"
   ]
  },
  {
   "cell_type": "code",
   "execution_count": null,
   "metadata": {},
   "outputs": [
    {
     "name": "stdout",
     "output_type": "stream",
     "text": [
      "- 0\n",
      "- 1\n",
      "- 2\n",
      "- 3\n",
      "- 4\n",
      "- 5\n",
      "- 6\n",
      "- 7\n",
      "- 8\n",
      "- 9\n"
     ]
    }
   ],
   "source": [
    "int limite = 10;\n",
    "\n",
    "for(int i=0; i<limite; i++)\n",
    "{\n",
    "    System.out.printf(\"- %d\\n\", i);\n",
    "}"
   ]
  }
 ],
 "metadata": {
  "kernelspec": {
   "display_name": "Java (rjk 2.2.0)",
   "language": "java",
   "name": "rapaio-jupyter-kernel"
  },
  "language_info": {
   "codemirror_mode": "java",
   "file_extension": ".jshell",
   "mimetype": "text/x-java-source",
   "name": "java",
   "nbconvert_exporter": "script",
   "pygments_lexer": "java",
   "version": "21.0.5+11-LTS"
  }
 },
 "nbformat": 4,
 "nbformat_minor": 2
}
